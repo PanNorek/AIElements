{
 "cells": [
  {
   "cell_type": "code",
   "execution_count": 8,
   "metadata": {},
   "outputs": [],
   "source": [
    "import numpy as np\n",
    "import pandas as pd\n",
    "from helwig import *"
   ]
  },
  {
   "cell_type": "markdown",
   "metadata": {},
   "source": [
    "## Helwig Method"
   ]
  },
  {
   "cell_type": "markdown",
   "metadata": {},
   "source": [
    "Hellwig's method is a method of selection of variables in linear model. It is widely used in Poland, probably only in Poland because it is really hard to find it in any scientific paper written in English."
   ]
  },
  {
   "cell_type": "markdown",
   "metadata": {},
   "source": [
    "$m_{k}$ - set of variables in k'th combination (there are $2^{p}-1$ combinations, where p is number of variables)<br>\n",
    "$r_{j}$ - correlation between $Y$ and $X_{j}$<br>\n",
    "$r_{ij}$ - correlation between $X_{i}$ and $X_{j}$<br>\n",
    "$H_{k}=\\sum\\limits_{j \\in m_{k}}\\frac{r_{j}^2}{\\sum\\limits_{i \\in m_{k}}|r_{ij}|}$\n",
    "\n",
    "Choose the combination of variables with the highest $H_{k}$"
   ]
  },
  {
   "cell_type": "markdown",
   "metadata": {},
   "source": [
    "### Variable initiation"
   ]
  },
  {
   "cell_type": "code",
   "execution_count": 9,
   "metadata": {},
   "outputs": [],
   "source": [
    "y = (728530.00,809045.00,29586.00,551013.00,904632.00,168420.00,296005.00,477694.00,853678.00,309096.00)\n",
    "x1 = (3.00,7.00,3.00,4.00,5.00,6.00,6.00,5.00,4.00,4.00)\n",
    "x2 = (63.00,50.00,43.00,44.00,43.00,67.00,54.00,76.00,31.00,44.00)\n",
    "x3 = (46867.00,49536.00,49054.00,44196.00,38832.00,40065.00,37046.00,35847.00,34970.00,33070.00)\n",
    "x4 = (46.00,24.00,31.00,75.00,81.00,43.00,49.00,40.00,90.00,75.00)\n",
    "x5 = (919324.00,926305.00,2043301.00,462866.00,1640315.00,217086.00,341262.00,1486963.00,346056.00,372790.00)\n",
    "\n"
   ]
  },
  {
   "cell_type": "code",
   "execution_count": 10,
   "metadata": {},
   "outputs": [
    {
     "data": {
      "text/plain": [
       "('x4',)"
      ]
     },
     "execution_count": 10,
     "metadata": {},
     "output_type": "execute_result"
    }
   ],
   "source": [
    "h2 = Helwig(y,x1,x2,x3,x4,x5)\n",
    "h2.compute_helwig()"
   ]
  },
  {
   "cell_type": "markdown",
   "metadata": {},
   "source": [
    "### Sample"
   ]
  },
  {
   "cell_type": "code",
   "execution_count": 11,
   "metadata": {},
   "outputs": [],
   "source": [
    "Y=(1,1,1,1,2,2,2,2,3,3,3,3,4,4,4,4,5,5,5,5)\n",
    "X1=(2,3,2,3,4,3,4,3,4,5,4,5,4,5,5,6,5,6,7,8)\n",
    "X2=(5,5,5,5,5,5,5,4,4,4,4,4,4,3,3,3,3,2,2,2)\n",
    "X3=(6,5,4,8,3,9,8,7,1,1,2,2,0,0,9,9,8,6,5,4)"
   ]
  },
  {
   "cell_type": "code",
   "execution_count": 12,
   "metadata": {},
   "outputs": [
    {
     "data": {
      "text/plain": [
       "('x1', 'x2')"
      ]
     },
     "execution_count": 12,
     "metadata": {},
     "output_type": "execute_result"
    }
   ],
   "source": [
    "h1 = Helwig(Y,X1,X2,X3)\n",
    "h1.compute_helwig()"
   ]
  },
  {
   "cell_type": "markdown",
   "metadata": {},
   "source": [
    "Confirmation: https://www.goldenline.pl/grupy/Komputery_Internet/r/implementacja-metody-hellwiga-w-r,446734/<br>\n",
    "\"\"\"\n",
    "Przykład:<br>\n",
    "-------------------<br>\n",
    "Y<-c(1,1,1,1,2,2,2,2,3,3,3,3,4,4,4,4,5,5,5,5) <br>\n",
    "X1<-c(2,3,2,3,4,3,4,3,4,5,4,5,4,5,5,6,5,6,7,8) <br>\n",
    "X2<-c(5,5,5,5,5,5,5,4,4,4,4,4,4,3,3,3,3,2,2,2) <br>\n",
    "X3<-c(6,5,4,8,3,9,8,7,1,1,2,2,0,0,9,9,8,6,5,4)<br>\n",
    "Dane<-data.frame(Y,X1,X2,X3)<br>\n",
    "\n",
    "ao.hellwig(4, Dane, \"pearson\")<br>\n",
    "[1] 2 3<br>\n",
    "<br>\n",
    "(czyli Hellwig stawia na zmienne X1 i X2)<br>\n",
    "\"\"\"<br>\n"
   ]
  },
  {
   "cell_type": "code",
   "execution_count": 13,
   "metadata": {},
   "outputs": [
    {
     "data": {
      "text/plain": [
       "{('x1',): 0.7713675213675218,\n",
       " ('x2',): 0.8691796008869175,\n",
       " ('x3',): 0.010854998659876727,\n",
       " ('x1', 'x2'): 0.8696082545422866,\n",
       " ('x1', 'x3'): 0.7291573434763855,\n",
       " ('x2', 'x3'): 0.8594944373527115,\n",
       " ('x1', 'x2', 'x3'): 0.8326915859037232}"
      ]
     },
     "execution_count": 13,
     "metadata": {},
     "output_type": "execute_result"
    }
   ],
   "source": [
    "h1.results"
   ]
  },
  {
   "cell_type": "code",
   "execution_count": 14,
   "metadata": {},
   "outputs": [
    {
     "data": {
      "text/html": [
       "<div>\n",
       "<style scoped>\n",
       "    .dataframe tbody tr th:only-of-type {\n",
       "        vertical-align: middle;\n",
       "    }\n",
       "\n",
       "    .dataframe tbody tr th {\n",
       "        vertical-align: top;\n",
       "    }\n",
       "\n",
       "    .dataframe thead th {\n",
       "        text-align: right;\n",
       "    }\n",
       "</style>\n",
       "<table border=\"1\" class=\"dataframe\">\n",
       "  <thead>\n",
       "    <tr style=\"text-align: right;\">\n",
       "      <th></th>\n",
       "      <th>x1</th>\n",
       "      <th>x2</th>\n",
       "      <th>x3</th>\n",
       "    </tr>\n",
       "  </thead>\n",
       "  <tbody>\n",
       "    <tr>\n",
       "      <th>x1</th>\n",
       "      <td>1.000000</td>\n",
       "      <td>-0.886536</td>\n",
       "      <td>-0.072776</td>\n",
       "    </tr>\n",
       "    <tr>\n",
       "      <th>x2</th>\n",
       "      <td>-0.886536</td>\n",
       "      <td>1.000000</td>\n",
       "      <td>0.023898</td>\n",
       "    </tr>\n",
       "    <tr>\n",
       "      <th>x3</th>\n",
       "      <td>-0.072776</td>\n",
       "      <td>0.023898</td>\n",
       "      <td>1.000000</td>\n",
       "    </tr>\n",
       "  </tbody>\n",
       "</table>\n",
       "</div>"
      ],
      "text/plain": [
       "          x1        x2        x3\n",
       "x1  1.000000 -0.886536 -0.072776\n",
       "x2 -0.886536  1.000000  0.023898\n",
       "x3 -0.072776  0.023898  1.000000"
      ]
     },
     "execution_count": 14,
     "metadata": {},
     "output_type": "execute_result"
    }
   ],
   "source": [
    "h1.get_corr_table()"
   ]
  }
 ],
 "metadata": {
  "interpreter": {
   "hash": "cdc50a57a6306f81401cd74ad9205586d65e161af0db0651f9968f600bef81aa"
  },
  "kernelspec": {
   "display_name": "Python 3.9.7 ('deepl')",
   "language": "python",
   "name": "python3"
  },
  "language_info": {
   "codemirror_mode": {
    "name": "ipython",
    "version": 3
   },
   "file_extension": ".py",
   "mimetype": "text/x-python",
   "name": "python",
   "nbconvert_exporter": "python",
   "pygments_lexer": "ipython3",
   "version": "3.9.7"
  },
  "orig_nbformat": 4
 },
 "nbformat": 4,
 "nbformat_minor": 2
}
